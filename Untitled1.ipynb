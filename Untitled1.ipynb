{
 "cells": [
  {
   "cell_type": "code",
   "execution_count": null,
   "metadata": {},
   "outputs": [],
   "source": [
    "from IPython.display import clear_output"
   ]
  },
  {
   "cell_type": "code",
   "execution_count": null,
   "metadata": {},
   "outputs": [],
   "source": [
    "def winner(arr):\n",
    "    if(arr[0]==arr[1]==arr[2] and (arr[0]=='x' or arr[0]=='o')):\n",
    "        return arr[0]\n",
    "    elif(arr[3]==arr[4]==arr[5] and (arr[3]=='x' or arr[3]=='o')):\n",
    "        return arr[3]\n",
    "    elif(arr[6]==arr[7]==arr[8] and (arr[6]=='x' or arr[6]=='o')):\n",
    "        return arr[6]\n",
    "    elif(arr[0]==arr[3]==arr[6] and (arr[0]=='x' or arr[0]=='o')):\n",
    "        return arr[0]\n",
    "    elif(arr[1]==arr[4]==arr[7] and (arr[1]=='x' or arr[1]=='o')):\n",
    "        return arr[1]\n",
    "    elif(arr[2]==arr[5]==arr[8] and (arr[2]=='x' or arr[2]=='o')):\n",
    "        return arr[1]\n",
    "    elif(arr[0]==arr[4]==arr[8] and (arr[0]=='x' or arr[0]=='o')):\n",
    "        return arr[1]\n",
    "    elif(arr[2]==arr[4]==arr[6] and (arr[2]=='x' or arr[2]=='o')):\n",
    "        return arr[2]\n",
    "    elif(\" \" not in arr):\n",
    "        return 3\n",
    "    else:\n",
    "        return 2"
   ]
  },
  {
   "cell_type": "code",
   "execution_count": null,
   "metadata": {},
   "outputs": [],
   "source": [
    "def print_pattern(arr):\n",
    "    a=arr[0]\n",
    "    b=arr[1]\n",
    "    c=arr[2]\n",
    "    d=arr[3]\n",
    "    e=arr[4]\n",
    "    f=arr[5]\n",
    "    g=arr[6]\n",
    "    h=arr[7]\n",
    "    i=arr[8]\n",
    "    print(\"   |   |   \")\n",
    "    print(f' {a} | {b} | {c} ')\n",
    "    print(\"   |   |   \")\n",
    "    print(\"-----------\")\n",
    "    print(\"   |   |   \")\n",
    "    print(f' {d} | {e} | {f} ')\n",
    "    print(\"   |   |   \")\n",
    "    print(\"-----------\")\n",
    "    print(\"   |   |   \")\n",
    "    print(f' {g} | {h} | {i} ')\n",
    "    print(\"   |   |   \")"
   ]
  },
  {
   "cell_type": "code",
   "execution_count": null,
   "metadata": {},
   "outputs": [],
   "source": [
    "def game(symbol1):\n",
    "    if(symbol1=='x'):\n",
    "        symbol2='o'\n",
    "    else:\n",
    "        symbol2='x'\n",
    "    arr=[' ',' ',' ',' ',' ',' ',' ',' ',' ']\n",
    "    print_pattern(arr)\n",
    "    i=0\n",
    "    while(winner(arr)==2):\n",
    "        if(i%2==0):\n",
    "            position=int(input(\"enter position for player-1\"))\n",
    "            arr[position-1]=symbol1\n",
    "        else:\n",
    "            position=int(input(\"enter position for player-2\"))\n",
    "            arr[position-1]=symbol2\n",
    "        clear_output()\n",
    "        print_pattern(arr)\n",
    "        i+=1\n",
    "    else:\n",
    "        if(winner(arr)==3):\n",
    "            print(\"draw\")\n",
    "        elif(winner(arr)==symbol1):\n",
    "            print(\"player-1 is winner...!\")\n",
    "        else:\n",
    "             print(\"player-2 is winner...!\")\n",
    "    "
   ]
  },
  {
   "cell_type": "code",
   "execution_count": null,
   "metadata": {},
   "outputs": [],
   "source": [
    "start=input(\"do you want to play ? enter 'yes' or 'no'\")\n",
    "while start==\"yes\":\n",
    "    symbol=input(\"choose 'x' or 'o' for player1\")\n",
    "    clear_output()\n",
    "    game(symbol)\n",
    "    start=input(\"do you want to play again ? enter 'yes' or 'no'\")"
   ]
  },
  {
   "cell_type": "code",
   "execution_count": null,
   "metadata": {},
   "outputs": [],
   "source": []
  }
 ],
 "metadata": {
  "kernelspec": {
   "display_name": "Python 3",
   "language": "python",
   "name": "python3"
  },
  "language_info": {
   "codemirror_mode": {
    "name": "ipython",
    "version": 3
   },
   "file_extension": ".py",
   "mimetype": "text/x-python",
   "name": "python",
   "nbconvert_exporter": "python",
   "pygments_lexer": "ipython3",
   "version": "3.7.3"
  }
 },
 "nbformat": 4,
 "nbformat_minor": 2
}
